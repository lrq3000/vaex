{
 "cells": [
  {
   "cell_type": "markdown",
   "metadata": {
    "ExecuteTime": {
     "end_time": "2019-12-04T13:44:39.449161Z",
     "start_time": "2019-12-04T13:44:39.443285Z"
    }
   },
   "source": [
    "<style>\n",
    "pre {\n",
    " white-space: pre-wrap !important;\n",
    "}\n",
    ".table-striped > tbody > tr:nth-of-type(odd) {\n",
    "    background-color: #f9f9f9;\n",
    "}\n",
    ".table-striped > tbody > tr:nth-of-type(even) {\n",
    "    background-color: white;\n",
    "}\n",
    ".table-striped td, .table-striped th, .table-striped tr {\n",
    "    border: 1px solid black;\n",
    "    border-collapse: collapse;\n",
    "    margin: 1em 2em;\n",
    "}\n",
    ".rendered_html td, .rendered_html th {\n",
    "    text-align: left;\n",
    "    vertical-align: middle;\n",
    "    padding: 4px;\n",
    "}\n",
    "</style>"
   ]
  },
  {
   "cell_type": "markdown",
   "metadata": {},
   "source": [
    "# Machine Learning (basic): the Iris dataset\n",
    "\n",
    "If you want to try out this notebook with a live Python kernel, use mybinder:\n",
    "\n",
    "<a class=\"reference external image-reference\" href=\"https://mybinder.org/v2/gh/vaexio/vaex/latest?filepath=docs%2Fsource%2Fexample_ml_iris.ipynb\"><img alt=\"https://mybinder.org/badge_logo.svg\" src=\"https://mybinder.org/badge_logo.svg\" width=\"150px\"></a>\n",
    "\n",
    "While `vaex.ml` does not yet implement predictive models, we provide wrappers to powerful libraries (e.g. [Scikit-learn](https://scikit-learn.org/), [xgboost](https://xgboost.readthedocs.io/)) and make them work efficiently with `vaex`. `vaex.ml` does implement a variety of standard data transformers (e.g. PCA, numerical scalers, categorical encoders) and a very efficient KMeans algorithm that take full advantage of `vaex`.\n",
    "\n",
    "The following is a simple example on use of `vaex.ml`. We will be using the well known Iris dataset, and we will use it to build a model which distinguishes between the three Irish species ([Iris setosa](https://en.wikipedia.org/wiki/Iris_setosa), [Iris virginica](https://en.wikipedia.org/wiki/Iris_virginica) and [Iris versicolor](https://en.wikipedia.org/wiki/Iris_versicolor)).\n",
    "\n",
    "Lets start by importing the common libraries, load and inspect the data."
   ]
  },
  {
   "cell_type": "code",
   "execution_count": 1,
   "metadata": {
    "ExecuteTime": {
     "end_time": "2020-10-13T08:21:05.870895Z",
     "start_time": "2020-10-13T08:21:05.027419Z"
    }
   },
   "outputs": [
    {
     "data": {
      "text/html": [
       "<table>\n",
       "<thead>\n",
       "<tr><th>#                              </th><th>sepal_length  </th><th>sepal_width  </th><th>petal_length  </th><th>petal_width  </th><th>class_  </th></tr>\n",
       "</thead>\n",
       "<tbody>\n",
       "<tr><td><i style='opacity: 0.6'>0</i>  </td><td>5.9           </td><td>3.0          </td><td>4.2           </td><td>1.5          </td><td>1       </td></tr>\n",
       "<tr><td><i style='opacity: 0.6'>1</i>  </td><td>6.1           </td><td>3.0          </td><td>4.6           </td><td>1.4          </td><td>1       </td></tr>\n",
       "<tr><td><i style='opacity: 0.6'>2</i>  </td><td>6.6           </td><td>2.9          </td><td>4.6           </td><td>1.3          </td><td>1       </td></tr>\n",
       "<tr><td><i style='opacity: 0.6'>3</i>  </td><td>6.7           </td><td>3.3          </td><td>5.7           </td><td>2.1          </td><td>2       </td></tr>\n",
       "<tr><td><i style='opacity: 0.6'>4</i>  </td><td>5.5           </td><td>4.2          </td><td>1.4           </td><td>0.2          </td><td>0       </td></tr>\n",
       "<tr><td>...                            </td><td>...           </td><td>...          </td><td>...           </td><td>...          </td><td>...     </td></tr>\n",
       "<tr><td><i style='opacity: 0.6'>145</i></td><td>5.2           </td><td>3.4          </td><td>1.4           </td><td>0.2          </td><td>0       </td></tr>\n",
       "<tr><td><i style='opacity: 0.6'>146</i></td><td>5.1           </td><td>3.8          </td><td>1.6           </td><td>0.2          </td><td>0       </td></tr>\n",
       "<tr><td><i style='opacity: 0.6'>147</i></td><td>5.8           </td><td>2.6          </td><td>4.0           </td><td>1.2          </td><td>1       </td></tr>\n",
       "<tr><td><i style='opacity: 0.6'>148</i></td><td>5.7           </td><td>3.8          </td><td>1.7           </td><td>0.3          </td><td>0       </td></tr>\n",
       "<tr><td><i style='opacity: 0.6'>149</i></td><td>6.2           </td><td>2.9          </td><td>4.3           </td><td>1.3          </td><td>1       </td></tr>\n",
       "</tbody>\n",
       "</table>"
      ],
      "text/plain": [
       "#    sepal_length    sepal_width    petal_length    petal_width    class_\n",
       "0    5.9             3.0            4.2             1.5            1\n",
       "1    6.1             3.0            4.6             1.4            1\n",
       "2    6.6             2.9            4.6             1.3            1\n",
       "3    6.7             3.3            5.7             2.1            2\n",
       "4    5.5             4.2            1.4             0.2            0\n",
       "...  ...             ...            ...             ...            ...\n",
       "145  5.2             3.4            1.4             0.2            0\n",
       "146  5.1             3.8            1.6             0.2            0\n",
       "147  5.8             2.6            4.0             1.2            1\n",
       "148  5.7             3.8            1.7             0.3            0\n",
       "149  6.2             2.9            4.3             1.3            1"
      ]
     },
     "execution_count": 1,
     "metadata": {},
     "output_type": "execute_result"
    }
   ],
   "source": [
    "import vaex\n",
    "import vaex.ml\n",
    "\n",
    "import pylab as plt\n",
    "\n",
    "\n",
    "df = vaex.ml.datasets.load_iris()\n",
    "df"
   ]
  },
  {
   "cell_type": "markdown",
   "metadata": {},
   "source": [
    "Splitting the data into _train_ and _test_ steps should be done immediately, before any manipulation is done on the data. `vaex.ml` contains a `train_test_split` method which creates shallow copies of the main DataFrame, meaning that no extra memory is used when defining train and test sets. Note that the `train_test_split` method does an ordered split of the main DataFrame to create the two sets. In some cases, one may need to shuffle the data.\n",
    "\n",
    "If shuffling is required, we recommend the following:\n",
    "```\n",
    "df.export(\"shuffled\", shuffle=True)\n",
    "df = vaex.open(\"shuffled.hdf5)\n",
    "df_train, df_test = df.ml.train_test_split(test_size=0.2)\n",
    "```\n",
    "\n",
    "In the present scenario, the dataset is already shuffled, so we can simply do the split right away."
   ]
  },
  {
   "cell_type": "code",
   "execution_count": 2,
   "metadata": {
    "ExecuteTime": {
     "end_time": "2020-10-13T08:21:05.887235Z",
     "start_time": "2020-10-13T08:21:05.871805Z"
    }
   },
   "outputs": [
    {
     "name": "stderr",
     "output_type": "stream",
     "text": [
      "/home/jovan/vaex/packages/vaex-core/vaex/ml/__init__.py:31: UserWarning: Make sure the DataFrame is shuffled\n",
      "  warnings.warn('Make sure the DataFrame is shuffled')\n"
     ]
    }
   ],
   "source": [
    "# Orderd split in train and test\n",
    "df_train, df_test = df.ml.train_test_split(test_size=0.2)"
   ]
  },
  {
   "cell_type": "markdown",
   "metadata": {},
   "source": [
    "As this is a very simple tutorial, we will just use the columns already provided as features for training the model."
   ]
  },
  {
   "cell_type": "code",
   "execution_count": 3,
   "metadata": {
    "ExecuteTime": {
     "end_time": "2020-10-13T08:21:05.890053Z",
     "start_time": "2020-10-13T08:21:05.888159Z"
    }
   },
   "outputs": [
    {
     "data": {
      "text/plain": [
       "['sepal_length', 'sepal_width', 'petal_length', 'petal_width']"
      ]
     },
     "execution_count": 3,
     "metadata": {},
     "output_type": "execute_result"
    }
   ],
   "source": [
    "features = df_train.column_names[:4]\n",
    "features"
   ]
  },
  {
   "cell_type": "markdown",
   "metadata": {
    "ExecuteTime": {
     "end_time": "2019-12-04T14:06:45.512795Z",
     "start_time": "2019-12-04T14:06:45.510575Z"
    }
   },
   "source": [
    "## PCA\n",
    "\n",
    "The `vaex.ml` module contains several classes for dataset transformations that are commonly used to pre-process data prior to building a model. These include numerical feature scalers, category encoders, and [PCA](https://en.wikipedia.org/wiki/Principal_component_analysis) transformations. We have adopted the [scikit-learn](https://scikit-learn.org/stable/) API, meaning that all transformers have the `.fit` and `.transform` methods. \n",
    "\n",
    "Let's use apply a PCA transformation on the training set. There is no need to scale the data beforehand, since the PCA also normalizes the data."
   ]
  },
  {
   "cell_type": "code",
   "execution_count": 4,
   "metadata": {
    "ExecuteTime": {
     "end_time": "2020-10-13T08:21:05.961353Z",
     "start_time": "2020-10-13T08:21:05.890860Z"
    }
   },
   "outputs": [
    {
     "data": {
      "text/html": [
       "<table>\n",
       "<thead>\n",
       "<tr><th>#                              </th><th>sepal_length  </th><th>sepal_width  </th><th>petal_length  </th><th>petal_width  </th><th>class_  </th><th>PCA_0               </th><th>PCA_1               </th><th>PCA_2               </th><th>PCA_3                 </th></tr>\n",
       "</thead>\n",
       "<tbody>\n",
       "<tr><td><i style='opacity: 0.6'>0</i>  </td><td>5.4           </td><td>3.0          </td><td>4.5           </td><td>1.5          </td><td>1       </td><td>-0.5819340944906611 </td><td>-0.5192084328455534 </td><td>-0.4079706950207428 </td><td>-0.22843325658378022  </td></tr>\n",
       "<tr><td><i style='opacity: 0.6'>1</i>  </td><td>4.8           </td><td>3.4          </td><td>1.6           </td><td>0.2          </td><td>0       </td><td>2.628040487885542   </td><td>-0.05578001049524599</td><td>-0.09961452867004605</td><td>-0.14960589756342935  </td></tr>\n",
       "<tr><td><i style='opacity: 0.6'>2</i>  </td><td>6.9           </td><td>3.1          </td><td>4.9           </td><td>1.5          </td><td>1       </td><td>-1.438496521671396  </td><td>0.5307778852279289  </td><td>0.32322065776316616 </td><td>-0.0066478967991949744</td></tr>\n",
       "<tr><td><i style='opacity: 0.6'>3</i>  </td><td>4.4           </td><td>3.2          </td><td>1.3           </td><td>0.2          </td><td>0       </td><td>3.00633586736142    </td><td>-0.41909744036887703</td><td>-0.17571839830952185</td><td>-0.05420541515837107  </td></tr>\n",
       "<tr><td><i style='opacity: 0.6'>4</i>  </td><td>5.6           </td><td>2.8          </td><td>4.9           </td><td>2.0          </td><td>2       </td><td>-1.1948465297428466 </td><td>-0.6200295372229213 </td><td>-0.4751905348367903 </td><td>0.08724845774327505   </td></tr>\n",
       "<tr><td>...                            </td><td>...           </td><td>...          </td><td>...           </td><td>...          </td><td>...     </td><td>...                 </td><td>...                 </td><td>...                 </td><td>...                   </td></tr>\n",
       "<tr><td><i style='opacity: 0.6'>115</i></td><td>5.2           </td><td>3.4          </td><td>1.4           </td><td>0.2          </td><td>0       </td><td>2.6608856211270933  </td><td>0.2619681501203415  </td><td>0.12886483875694454 </td><td>0.06429707648769989   </td></tr>\n",
       "<tr><td><i style='opacity: 0.6'>116</i></td><td>5.1           </td><td>3.8          </td><td>1.6           </td><td>0.2          </td><td>0       </td><td>2.561545765055359   </td><td>0.4288927940763031  </td><td>-0.18633294617759266</td><td>-0.20573646329612738  </td></tr>\n",
       "<tr><td><i style='opacity: 0.6'>117</i></td><td>5.8           </td><td>2.6          </td><td>4.0           </td><td>1.2          </td><td>1       </td><td>-0.22075578997244774</td><td>-0.40152336651555137</td><td>0.25417836518749715 </td><td>0.04952191889168374   </td></tr>\n",
       "<tr><td><i style='opacity: 0.6'>118</i></td><td>5.7           </td><td>3.8          </td><td>1.7           </td><td>0.3          </td><td>0       </td><td>2.23068249078231    </td><td>0.826166758833374   </td><td>0.07863720599424912 </td><td>0.0004035597987264161 </td></tr>\n",
       "<tr><td><i style='opacity: 0.6'>119</i></td><td>6.2           </td><td>2.9          </td><td>4.3           </td><td>1.3          </td><td>1       </td><td>-0.6256358184862005 </td><td>0.023930474333675168</td><td>0.21203674475657858 </td><td>-0.0077954052328795265</td></tr>\n",
       "</tbody>\n",
       "</table>"
      ],
      "text/plain": [
       "#    sepal_length    sepal_width    petal_length    petal_width    class_    PCA_0                 PCA_1                 PCA_2                 PCA_3\n",
       "0    5.4             3.0            4.5             1.5            1         -0.5819340944906611   -0.5192084328455534   -0.4079706950207428   -0.22843325658378022\n",
       "1    4.8             3.4            1.6             0.2            0         2.628040487885542     -0.05578001049524599  -0.09961452867004605  -0.14960589756342935\n",
       "2    6.9             3.1            4.9             1.5            1         -1.438496521671396    0.5307778852279289    0.32322065776316616   -0.0066478967991949744\n",
       "3    4.4             3.2            1.3             0.2            0         3.00633586736142      -0.41909744036887703  -0.17571839830952185  -0.05420541515837107\n",
       "4    5.6             2.8            4.9             2.0            2         -1.1948465297428466   -0.6200295372229213   -0.4751905348367903   0.08724845774327505\n",
       "...  ...             ...            ...             ...            ...       ...                   ...                   ...                   ...\n",
       "115  5.2             3.4            1.4             0.2            0         2.6608856211270933    0.2619681501203415    0.12886483875694454   0.06429707648769989\n",
       "116  5.1             3.8            1.6             0.2            0         2.561545765055359     0.4288927940763031    -0.18633294617759266  -0.20573646329612738\n",
       "117  5.8             2.6            4.0             1.2            1         -0.22075578997244774  -0.40152336651555137  0.25417836518749715   0.04952191889168374\n",
       "118  5.7             3.8            1.7             0.3            0         2.23068249078231      0.826166758833374     0.07863720599424912   0.0004035597987264161\n",
       "119  6.2             2.9            4.3             1.3            1         -0.6256358184862005   0.023930474333675168  0.21203674475657858   -0.0077954052328795265"
      ]
     },
     "execution_count": 4,
     "metadata": {},
     "output_type": "execute_result"
    }
   ],
   "source": [
    "pca = vaex.ml.PCA(features=features, n_components=4)\n",
    "df_train = pca.fit_transform(df_train)\n",
    "df_train"
   ]
  },
  {
   "cell_type": "markdown",
   "metadata": {},
   "source": [
    "The result of pca `.fit_transform` method is a shallow copy of the DataFrame which contains the resulting columns of the transformation, in this case the PCA components, as virtual columns. This means that the transformed DataFrame takes no memory at all! So while this example is made with only 120 sample, this would work in the same way even for millions or billions of samples.\n",
    "\n",
    "## Gradient boosting trees\n",
    "\n",
    "Now let's train a gradient boosting model. While `vaex.ml` does not currently include this type of models, we support the popular boosted trees libraries [xgboost](https://xgboost.readthedocs.io/en/latest/), [lightgbm](https://lightgbm.readthedocs.io/en/latest/), and [catboost](https://catboost.ai/). In this tutorial we will use the `lightgbm` classifier."
   ]
  },
  {
   "cell_type": "code",
   "execution_count": 5,
   "metadata": {
    "ExecuteTime": {
     "end_time": "2020-10-13T08:21:06.368311Z",
     "start_time": "2020-10-13T08:21:05.962108Z"
    }
   },
   "outputs": [
    {
     "name": "stdout",
     "output_type": "stream",
     "text": [
      "{'class_'}\n"
     ]
    },
    {
     "data": {
      "text/html": [
       "<table>\n",
       "<thead>\n",
       "<tr><th>#                              </th><th>sepal_length  </th><th>sepal_width  </th><th>petal_length  </th><th>petal_width  </th><th>class_  </th><th>PCA_0               </th><th>PCA_1               </th><th>PCA_2               </th><th>PCA_3                 </th><th>prediction  </th></tr>\n",
       "</thead>\n",
       "<tbody>\n",
       "<tr><td><i style='opacity: 0.6'>0</i>  </td><td>5.4           </td><td>3.0          </td><td>4.5           </td><td>1.5          </td><td>1       </td><td>-0.5819340944906611 </td><td>-0.5192084328455534 </td><td>-0.4079706950207428 </td><td>-0.22843325658378022  </td><td>1           </td></tr>\n",
       "<tr><td><i style='opacity: 0.6'>1</i>  </td><td>4.8           </td><td>3.4          </td><td>1.6           </td><td>0.2          </td><td>0       </td><td>2.628040487885542   </td><td>-0.05578001049524599</td><td>-0.09961452867004605</td><td>-0.14960589756342935  </td><td>0           </td></tr>\n",
       "<tr><td><i style='opacity: 0.6'>2</i>  </td><td>6.9           </td><td>3.1          </td><td>4.9           </td><td>1.5          </td><td>1       </td><td>-1.438496521671396  </td><td>0.5307778852279289  </td><td>0.32322065776316616 </td><td>-0.0066478967991949744</td><td>1           </td></tr>\n",
       "<tr><td><i style='opacity: 0.6'>3</i>  </td><td>4.4           </td><td>3.2          </td><td>1.3           </td><td>0.2          </td><td>0       </td><td>3.00633586736142    </td><td>-0.41909744036887703</td><td>-0.17571839830952185</td><td>-0.05420541515837107  </td><td>0           </td></tr>\n",
       "<tr><td><i style='opacity: 0.6'>4</i>  </td><td>5.6           </td><td>2.8          </td><td>4.9           </td><td>2.0          </td><td>2       </td><td>-1.1948465297428466 </td><td>-0.6200295372229213 </td><td>-0.4751905348367903 </td><td>0.08724845774327505   </td><td>2           </td></tr>\n",
       "<tr><td>...                            </td><td>...           </td><td>...          </td><td>...           </td><td>...          </td><td>...     </td><td>...                 </td><td>...                 </td><td>...                 </td><td>...                   </td><td>...         </td></tr>\n",
       "<tr><td><i style='opacity: 0.6'>115</i></td><td>5.2           </td><td>3.4          </td><td>1.4           </td><td>0.2          </td><td>0       </td><td>2.6608856211270933  </td><td>0.2619681501203415  </td><td>0.12886483875694454 </td><td>0.06429707648769989   </td><td>0           </td></tr>\n",
       "<tr><td><i style='opacity: 0.6'>116</i></td><td>5.1           </td><td>3.8          </td><td>1.6           </td><td>0.2          </td><td>0       </td><td>2.561545765055359   </td><td>0.4288927940763031  </td><td>-0.18633294617759266</td><td>-0.20573646329612738  </td><td>0           </td></tr>\n",
       "<tr><td><i style='opacity: 0.6'>117</i></td><td>5.8           </td><td>2.6          </td><td>4.0           </td><td>1.2          </td><td>1       </td><td>-0.22075578997244774</td><td>-0.40152336651555137</td><td>0.25417836518749715 </td><td>0.04952191889168374   </td><td>1           </td></tr>\n",
       "<tr><td><i style='opacity: 0.6'>118</i></td><td>5.7           </td><td>3.8          </td><td>1.7           </td><td>0.3          </td><td>0       </td><td>2.23068249078231    </td><td>0.826166758833374   </td><td>0.07863720599424912 </td><td>0.0004035597987264161 </td><td>0           </td></tr>\n",
       "<tr><td><i style='opacity: 0.6'>119</i></td><td>6.2           </td><td>2.9          </td><td>4.3           </td><td>1.3          </td><td>1       </td><td>-0.6256358184862005 </td><td>0.023930474333675168</td><td>0.21203674475657858 </td><td>-0.0077954052328795265</td><td>1           </td></tr>\n",
       "</tbody>\n",
       "</table>"
      ],
      "text/plain": [
       "#    sepal_length    sepal_width    petal_length    petal_width    class_    PCA_0                 PCA_1                 PCA_2                 PCA_3                   prediction\n",
       "0    5.4             3.0            4.5             1.5            1         -0.5819340944906611   -0.5192084328455534   -0.4079706950207428   -0.22843325658378022    1\n",
       "1    4.8             3.4            1.6             0.2            0         2.628040487885542     -0.05578001049524599  -0.09961452867004605  -0.14960589756342935    0\n",
       "2    6.9             3.1            4.9             1.5            1         -1.438496521671396    0.5307778852279289    0.32322065776316616   -0.0066478967991949744  1\n",
       "3    4.4             3.2            1.3             0.2            0         3.00633586736142      -0.41909744036887703  -0.17571839830952185  -0.05420541515837107    0\n",
       "4    5.6             2.8            4.9             2.0            2         -1.1948465297428466   -0.6200295372229213   -0.4751905348367903   0.08724845774327505     2\n",
       "...  ...             ...            ...             ...            ...       ...                   ...                   ...                   ...                     ...\n",
       "115  5.2             3.4            1.4             0.2            0         2.6608856211270933    0.2619681501203415    0.12886483875694454   0.06429707648769989     0\n",
       "116  5.1             3.8            1.6             0.2            0         2.561545765055359     0.4288927940763031    -0.18633294617759266  -0.20573646329612738    0\n",
       "117  5.8             2.6            4.0             1.2            1         -0.22075578997244774  -0.40152336651555137  0.25417836518749715   0.04952191889168374     1\n",
       "118  5.7             3.8            1.7             0.3            0         2.23068249078231      0.826166758833374     0.07863720599424912   0.0004035597987264161   0\n",
       "119  6.2             2.9            4.3             1.3            1         -0.6256358184862005   0.023930474333675168  0.21203674475657858   -0.0077954052328795265  1"
      ]
     },
     "execution_count": 5,
     "metadata": {},
     "output_type": "execute_result"
    }
   ],
   "source": [
    "import lightgbm\n",
    "import vaex.ml.sklearn\n",
    "\n",
    "# Features on which to train the model\n",
    "train_features = df_train.get_column_names(regex='PCA_.*')\n",
    "# The target column\n",
    "target = 'class_'\n",
    "\n",
    "# Instantiate the LightGBM Classifier\n",
    "booster = lightgbm.sklearn.LGBMClassifier(num_leaves=5, \n",
    "                                          max_depth=5, \n",
    "                                          n_estimators=100,\n",
    "                                          random_state=42)\n",
    "\n",
    "# Make it a vaex transformer (for the automagic pipeline and lazy predictions)\n",
    "model = vaex.ml.sklearn.Predictor(features=train_features, \n",
    "                                  target=target,\n",
    "                                  model=booster, \n",
    "                                  prediction_name='prediction')\n",
    "\n",
    "# Train and predict\n",
    "model.fit(df=df_train)\n",
    "df_train = model.transform(df=df_train)\n",
    "\n",
    "df_train"
   ]
  },
  {
   "cell_type": "markdown",
   "metadata": {
    "ExecuteTime": {
     "end_time": "2019-12-04T14:40:52.347957Z",
     "start_time": "2019-12-04T14:40:52.345452Z"
    }
   },
   "source": [
    "Notice that after training the model, we use the `.transform` method to obtain a shallow copy of the DataFrame which  contains the prediction of the model, in a form of a virtual column. This makes it easy to evaluate the model, and easily create various diagnostic plots. If required, one can call the `.predict` method, which will result in an in-memory `numpy.array` housing the predictions.\n",
    "\n",
    "## Automatic pipelines\n",
    "\n",
    "Assuming we are happy with the performance of the model, we can continue and apply our transformations and model to the test set. Unlike other libraries, we do not need to explicitly create a pipeline here in order to propagate the transformations. In fact, with `vaex` and `vaex.ml`, a pipeline is automatically being created as one is doing the exploration of the data. Each `vaex` DataFrame contains a _state,_ which is a (serializable) object containing information of all transformations applied to the DataFrame (filtering, creation of new virtual columns, transformations).\n",
    "\n",
    "Recall that the outputs of both the PCA transformation and the boosted model were in fact virtual columns, and thus are stored in the state of `df_train`. All we need to do, is to apply this state to another similar DataFrame (e.g. the test set), and all the changes will be propagated."
   ]
  },
  {
   "cell_type": "code",
   "execution_count": 6,
   "metadata": {
    "ExecuteTime": {
     "end_time": "2020-10-13T08:21:06.405250Z",
     "start_time": "2020-10-13T08:21:06.369083Z"
    }
   },
   "outputs": [
    {
     "data": {
      "text/html": [
       "<table>\n",
       "<thead>\n",
       "<tr><th>#                             </th><th>sepal_length  </th><th>sepal_width  </th><th>petal_length  </th><th>petal_width  </th><th>class_  </th><th>PCA_0               </th><th>PCA_1               </th><th>PCA_2               </th><th>PCA_3                </th><th>prediction  </th></tr>\n",
       "</thead>\n",
       "<tbody>\n",
       "<tr><td><i style='opacity: 0.6'>0</i> </td><td>5.9           </td><td>3.0          </td><td>4.2           </td><td>1.5          </td><td>1       </td><td>-0.4978687101343986 </td><td>-0.11289245880584761</td><td>-0.11962601206069637</td><td>0.0625954090178564   </td><td>1           </td></tr>\n",
       "<tr><td><i style='opacity: 0.6'>1</i> </td><td>6.1           </td><td>3.0          </td><td>4.6           </td><td>1.4          </td><td>1       </td><td>-0.8754765898560835 </td><td>-0.03902402119573594</td><td>0.022944044447894815</td><td>-0.14143773065379384 </td><td>1           </td></tr>\n",
       "<tr><td><i style='opacity: 0.6'>2</i> </td><td>6.6           </td><td>2.9          </td><td>4.6           </td><td>1.3          </td><td>1       </td><td>-1.0228803632878913 </td><td>0.2503709022470443  </td><td>0.4130613754204865  </td><td>-0.030391911559003282</td><td>1           </td></tr>\n",
       "<tr><td><i style='opacity: 0.6'>3</i> </td><td>6.7           </td><td>3.3          </td><td>5.7           </td><td>2.1          </td><td>2       </td><td>-2.2544508624315838 </td><td>0.3431374410700749  </td><td>-0.28908707579214765</td><td>-0.07059175451207655 </td><td>2           </td></tr>\n",
       "<tr><td><i style='opacity: 0.6'>4</i> </td><td>5.5           </td><td>4.2          </td><td>1.4           </td><td>0.2          </td><td>0       </td><td>2.632289228948536   </td><td>1.020394958612415   </td><td>-0.20769510079946696</td><td>-0.13744144140286718 </td><td>0           </td></tr>\n",
       "<tr><td>...                           </td><td>...           </td><td>...          </td><td>...           </td><td>...          </td><td>...     </td><td>...                 </td><td>...                 </td><td>...                 </td><td>...                  </td><td>...         </td></tr>\n",
       "<tr><td><i style='opacity: 0.6'>25</i></td><td>5.5           </td><td>2.5          </td><td>4.0           </td><td>1.3          </td><td>1       </td><td>-0.16189655085432594</td><td>-0.6871827581512436 </td><td>0.09773053160021669 </td><td>0.07093166682594204  </td><td>1           </td></tr>\n",
       "<tr><td><i style='opacity: 0.6'>26</i></td><td>5.8           </td><td>2.7          </td><td>3.9           </td><td>1.2          </td><td>1       </td><td>-0.12526327170089271</td><td>-0.3148233189949767 </td><td>0.19720893202789733 </td><td>0.060419826927667064 </td><td>1           </td></tr>\n",
       "<tr><td><i style='opacity: 0.6'>27</i></td><td>4.4           </td><td>2.9          </td><td>1.4           </td><td>0.2          </td><td>0       </td><td>2.8918941837640526  </td><td>-0.6426744898497139 </td><td>0.006171795874510444</td><td>0.007700652884580328 </td><td>0           </td></tr>\n",
       "<tr><td><i style='opacity: 0.6'>28</i></td><td>4.5           </td><td>2.3          </td><td>1.3           </td><td>0.3          </td><td>0       </td><td>2.850207707200544   </td><td>-0.9710397723109179 </td><td>0.38501428492268475 </td><td>0.377723418991853    </td><td>0           </td></tr>\n",
       "<tr><td><i style='opacity: 0.6'>29</i></td><td>6.9           </td><td>3.2          </td><td>5.7           </td><td>2.3          </td><td>2       </td><td>-2.405639277483925  </td><td>0.4027072938482219  </td><td>-0.22944817803540973</td><td>0.17443211711742812  </td><td>2           </td></tr>\n",
       "</tbody>\n",
       "</table>"
      ],
      "text/plain": [
       "#    sepal_length    sepal_width    petal_length    petal_width    class_    PCA_0                 PCA_1                 PCA_2                 PCA_3                  prediction\n",
       "0    5.9             3.0            4.2             1.5            1         -0.4978687101343986   -0.11289245880584761  -0.11962601206069637  0.0625954090178564     1\n",
       "1    6.1             3.0            4.6             1.4            1         -0.8754765898560835   -0.03902402119573594  0.022944044447894815  -0.14143773065379384   1\n",
       "2    6.6             2.9            4.6             1.3            1         -1.0228803632878913   0.2503709022470443    0.4130613754204865    -0.030391911559003282  1\n",
       "3    6.7             3.3            5.7             2.1            2         -2.2544508624315838   0.3431374410700749    -0.28908707579214765  -0.07059175451207655   2\n",
       "4    5.5             4.2            1.4             0.2            0         2.632289228948536     1.020394958612415     -0.20769510079946696  -0.13744144140286718   0\n",
       "...  ...             ...            ...             ...            ...       ...                   ...                   ...                   ...                    ...\n",
       "25   5.5             2.5            4.0             1.3            1         -0.16189655085432594  -0.6871827581512436   0.09773053160021669   0.07093166682594204    1\n",
       "26   5.8             2.7            3.9             1.2            1         -0.12526327170089271  -0.3148233189949767   0.19720893202789733   0.060419826927667064   1\n",
       "27   4.4             2.9            1.4             0.2            0         2.8918941837640526    -0.6426744898497139   0.006171795874510444  0.007700652884580328   0\n",
       "28   4.5             2.3            1.3             0.3            0         2.850207707200544     -0.9710397723109179   0.38501428492268475   0.377723418991853      0\n",
       "29   6.9             3.2            5.7             2.3            2         -2.405639277483925    0.4027072938482219    -0.22944817803540973  0.17443211711742812    2"
      ]
     },
     "execution_count": 6,
     "metadata": {},
     "output_type": "execute_result"
    }
   ],
   "source": [
    "state = df_train.state_get()\n",
    "df_test.state_set(state)\n",
    "\n",
    "df_test"
   ]
  },
  {
   "cell_type": "markdown",
   "metadata": {},
   "source": [
    "## Production\n",
    "\n",
    "Now `df_test` contains all the transformations we applied on the training set (`df_train`), including the model prediction. The transfer of state from one DataFrame to another can be extremely valuable for putting models in production.\n",
    "\n",
    "## Performance\n",
    "Finally, let's check the model performance."
   ]
  },
  {
   "cell_type": "code",
   "execution_count": 7,
   "metadata": {
    "ExecuteTime": {
     "end_time": "2020-10-13T08:21:06.413809Z",
     "start_time": "2020-10-13T08:21:06.406040Z"
    }
   },
   "outputs": [
    {
     "name": "stdout",
     "output_type": "stream",
     "text": [
      "Test set accuracy: 96.66666666666667%\n"
     ]
    }
   ],
   "source": [
    "from sklearn.metrics import accuracy_score\n",
    "\n",
    "acc = accuracy_score(y_true=df_test.class_.values, y_pred=df_test.prediction.values)\n",
    "acc *= 100.\n",
    "print(f'Test set accuracy: {acc}%')"
   ]
  },
  {
   "cell_type": "markdown",
   "metadata": {
    "ExecuteTime": {
     "end_time": "2019-12-04T15:03:26.881910Z",
     "start_time": "2019-12-04T15:03:26.872187Z"
    }
   },
   "source": [
    "The model has accuracy of nearly 100%. This is not surprising as this problem is rather easy: doing a PCA transformation on the features nicely separates the 3 flower species. Plotting the first two PCA axes, and colouring the samples according to their class already shows an almost perfect separation."
   ]
  },
  {
   "cell_type": "code",
   "execution_count": 8,
   "metadata": {
    "ExecuteTime": {
     "end_time": "2020-10-13T08:21:06.498709Z",
     "start_time": "2020-10-13T08:21:06.414554Z"
    }
   },
   "outputs": [
    {
     "data": {
      "image/png": "[encoded data removed]",
      "text/plain": [
       "<Figure size 576x288 with 1 Axes>"
      ]
     },
     "metadata": {
      "needs_background": "light"
     },
     "output_type": "display_data"
    }
   ],
   "source": [
    "plt.figure(figsize=(8, 4))\n",
    "df_train.viz.scatter(df_train.PCA_0, df_train.PCA_1, c_expr=df_train.class_, s=50)\n",
    "plt.show()"
   ]
  }
 ],
 "metadata": {
  "kernelspec": {
   "display_name": "Python 3",
   "language": "python",
   "name": "python3"
  },
  "language_info": {
   "codemirror_mode": {
    "name": "ipython",
    "version": 3
   },
   "file_extension": ".py",
   "mimetype": "text/x-python",
   "name": "python",
   "nbconvert_exporter": "python",
   "pygments_lexer": "ipython3",
   "version": "3.7.8"
  }
 },
 "nbformat": 4,
 "nbformat_minor": 2
}
